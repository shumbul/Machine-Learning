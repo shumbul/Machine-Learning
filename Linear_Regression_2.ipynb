{
 "cells": [
  {
   "cell_type": "markdown",
   "metadata": {
    "id": "6sRGT_OiNYvQ"
   },
   "source": [
    "## Importing data and creating table\n",
    "\n",
    "Attributes: \n",
    "\n",
    "X1 : Login Hours\n",
    "\n",
    "X2 : Break time duration \n",
    "\n",
    "Y *(Label)* : Productivity"
   ]
  },
  {
   "cell_type": "code",
   "execution_count": 53,
   "metadata": {
    "colab": {
     "base_uri": "https://localhost:8080/",
     "height": 402
    },
    "id": "5AnoDEDr1b_3",
    "outputId": "b283270b-3042-4748-919d-9606694939aa"
   },
   "outputs": [
    {
     "data": {
      "text/html": [
       "<div>\n",
       "<style scoped>\n",
       "    .dataframe tbody tr th:only-of-type {\n",
       "        vertical-align: middle;\n",
       "    }\n",
       "\n",
       "    .dataframe tbody tr th {\n",
       "        vertical-align: top;\n",
       "    }\n",
       "\n",
       "    .dataframe thead th {\n",
       "        text-align: right;\n",
       "    }\n",
       "</style>\n",
       "<table border=\"1\" class=\"dataframe\">\n",
       "  <thead>\n",
       "    <tr style=\"text-align: right;\">\n",
       "      <th></th>\n",
       "      <th>X1</th>\n",
       "      <th>X2</th>\n",
       "      <th>Y</th>\n",
       "    </tr>\n",
       "  </thead>\n",
       "  <tbody>\n",
       "    <tr>\n",
       "      <th>0</th>\n",
       "      <td>8.1</td>\n",
       "      <td>1.25</td>\n",
       "      <td>9.03</td>\n",
       "    </tr>\n",
       "    <tr>\n",
       "      <th>1</th>\n",
       "      <td>7.3</td>\n",
       "      <td>1.38</td>\n",
       "      <td>8.65</td>\n",
       "    </tr>\n",
       "    <tr>\n",
       "      <th>2</th>\n",
       "      <td>7.8</td>\n",
       "      <td>1.57</td>\n",
       "      <td>8.94</td>\n",
       "    </tr>\n",
       "    <tr>\n",
       "      <th>3</th>\n",
       "      <td>8.9</td>\n",
       "      <td>1.27</td>\n",
       "      <td>9.42</td>\n",
       "    </tr>\n",
       "    <tr>\n",
       "      <th>4</th>\n",
       "      <td>9.2</td>\n",
       "      <td>1.67</td>\n",
       "      <td>9.58</td>\n",
       "    </tr>\n",
       "    <tr>\n",
       "      <th>5</th>\n",
       "      <td>8.5</td>\n",
       "      <td>1.08</td>\n",
       "      <td>9.19</td>\n",
       "    </tr>\n",
       "    <tr>\n",
       "      <th>6</th>\n",
       "      <td>8.4</td>\n",
       "      <td>1.22</td>\n",
       "      <td>9.17</td>\n",
       "    </tr>\n",
       "    <tr>\n",
       "      <th>7</th>\n",
       "      <td>7.2</td>\n",
       "      <td>1.37</td>\n",
       "      <td>8.99</td>\n",
       "    </tr>\n",
       "    <tr>\n",
       "      <th>8</th>\n",
       "      <td>9.1</td>\n",
       "      <td>1.25</td>\n",
       "      <td>9.57</td>\n",
       "    </tr>\n",
       "    <tr>\n",
       "      <th>9</th>\n",
       "      <td>7.6</td>\n",
       "      <td>1.40</td>\n",
       "      <td>8.80</td>\n",
       "    </tr>\n",
       "    <tr>\n",
       "      <th>10</th>\n",
       "      <td>7.8</td>\n",
       "      <td>1.27</td>\n",
       "      <td>8.88</td>\n",
       "    </tr>\n",
       "    <tr>\n",
       "      <th>11</th>\n",
       "      <td>7.9</td>\n",
       "      <td>1.63</td>\n",
       "      <td>8.90</td>\n",
       "    </tr>\n",
       "  </tbody>\n",
       "</table>\n",
       "</div>"
      ],
      "text/plain": [
       "     X1    X2     Y\n",
       "0   8.1  1.25  9.03\n",
       "1   7.3  1.38  8.65\n",
       "2   7.8  1.57  8.94\n",
       "3   8.9  1.27  9.42\n",
       "4   9.2  1.67  9.58\n",
       "5   8.5  1.08  9.19\n",
       "6   8.4  1.22  9.17\n",
       "7   7.2  1.37  8.99\n",
       "8   9.1  1.25  9.57\n",
       "9   7.6  1.40  8.80\n",
       "10  7.8  1.27  8.88\n",
       "11  7.9  1.63  8.90"
      ]
     },
     "execution_count": 53,
     "metadata": {
      "tags": []
     },
     "output_type": "execute_result"
    }
   ],
   "source": [
    "import numpy as np\n",
    "import pandas as pd\n",
    "\n",
    "temp={\"X1\":[8.1,7.3,7.8,8.9,9.2,8.5,8.4,7.2,9.1,7.6,7.8,7.9], \n",
    "      \"X2\":[1.25,1.38,1.57,1.27,1.67,1.08,1.22,1.37,1.25,1.40,1.27,1.63], \n",
    "      \"Y\":[9.03,8.65,8.94,9.42,9.58,9.19,9.17,8.99,9.57,8.80,8.88,8.90]}\n",
    "df=pd.DataFrame(temp)\n",
    "df"
   ]
  },
  {
   "cell_type": "markdown",
   "metadata": {
    "id": "_TIwQGwGL4wM"
   },
   "source": [
    "## Calculating Means"
   ]
  },
  {
   "cell_type": "code",
   "execution_count": 54,
   "metadata": {
    "colab": {
     "base_uri": "https://localhost:8080/"
    },
    "id": "YqDn01YQ4WrA",
    "outputId": "a1211bc6-0322-4545-b0d6-45b17476d2c3"
   },
   "outputs": [
    {
     "data": {
      "text/plain": [
       "8.149999999999999"
      ]
     },
     "execution_count": 54,
     "metadata": {
      "tags": []
     },
     "output_type": "execute_result"
    }
   ],
   "source": [
    "X1bar = df[\"X1\"].sum(axis=0)/len(df[\"X1\"])\n",
    "X1bar"
   ]
  },
  {
   "cell_type": "code",
   "execution_count": 55,
   "metadata": {
    "colab": {
     "base_uri": "https://localhost:8080/"
    },
    "id": "ZjYl7p8u48Zm",
    "outputId": "27983797-1a34-4179-9d65-230a3567edd0"
   },
   "outputs": [
    {
     "data": {
      "text/plain": [
       "1.3633333333333333"
      ]
     },
     "execution_count": 55,
     "metadata": {
      "tags": []
     },
     "output_type": "execute_result"
    }
   ],
   "source": [
    "X2bar = df[\"X2\"].sum(axis=0)/len(df[\"X2\"])\n",
    "X2bar"
   ]
  },
  {
   "cell_type": "code",
   "execution_count": 56,
   "metadata": {
    "colab": {
     "base_uri": "https://localhost:8080/"
    },
    "id": "j3GaIAc95CGc",
    "outputId": "cda6dc28-73d8-4e6f-c8ae-c6191a50b5b7"
   },
   "outputs": [
    {
     "data": {
      "text/plain": [
       "9.093333333333332"
      ]
     },
     "execution_count": 56,
     "metadata": {
      "tags": []
     },
     "output_type": "execute_result"
    }
   ],
   "source": [
    "Ybar = df[\"Y\"].sum(axis=0)/len(df[\"Y\"])\n",
    "Ybar"
   ]
  },
  {
   "cell_type": "markdown",
   "metadata": {
    "id": "9XW5tJX1META"
   },
   "source": [
    "## Calculating (Xi - Xbar) and (Xi - Xbar)^2"
   ]
  },
  {
   "cell_type": "code",
   "execution_count": 57,
   "metadata": {
    "colab": {
     "base_uri": "https://localhost:8080/",
     "height": 402
    },
    "id": "sRK2eC0e6Lxp",
    "outputId": "1a5aa265-454c-462c-9f9f-bfbc1fb2fd08"
   },
   "outputs": [
    {
     "data": {
      "text/html": [
       "<div>\n",
       "<style scoped>\n",
       "    .dataframe tbody tr th:only-of-type {\n",
       "        vertical-align: middle;\n",
       "    }\n",
       "\n",
       "    .dataframe tbody tr th {\n",
       "        vertical-align: top;\n",
       "    }\n",
       "\n",
       "    .dataframe thead th {\n",
       "        text-align: right;\n",
       "    }\n",
       "</style>\n",
       "<table border=\"1\" class=\"dataframe\">\n",
       "  <thead>\n",
       "    <tr style=\"text-align: right;\">\n",
       "      <th></th>\n",
       "      <th>X1</th>\n",
       "      <th>X2</th>\n",
       "      <th>Y</th>\n",
       "      <th>X1i-X1bar</th>\n",
       "    </tr>\n",
       "  </thead>\n",
       "  <tbody>\n",
       "    <tr>\n",
       "      <th>0</th>\n",
       "      <td>8.1</td>\n",
       "      <td>1.25</td>\n",
       "      <td>9.03</td>\n",
       "      <td>-0.05</td>\n",
       "    </tr>\n",
       "    <tr>\n",
       "      <th>1</th>\n",
       "      <td>7.3</td>\n",
       "      <td>1.38</td>\n",
       "      <td>8.65</td>\n",
       "      <td>-0.85</td>\n",
       "    </tr>\n",
       "    <tr>\n",
       "      <th>2</th>\n",
       "      <td>7.8</td>\n",
       "      <td>1.57</td>\n",
       "      <td>8.94</td>\n",
       "      <td>-0.35</td>\n",
       "    </tr>\n",
       "    <tr>\n",
       "      <th>3</th>\n",
       "      <td>8.9</td>\n",
       "      <td>1.27</td>\n",
       "      <td>9.42</td>\n",
       "      <td>0.75</td>\n",
       "    </tr>\n",
       "    <tr>\n",
       "      <th>4</th>\n",
       "      <td>9.2</td>\n",
       "      <td>1.67</td>\n",
       "      <td>9.58</td>\n",
       "      <td>1.05</td>\n",
       "    </tr>\n",
       "    <tr>\n",
       "      <th>5</th>\n",
       "      <td>8.5</td>\n",
       "      <td>1.08</td>\n",
       "      <td>9.19</td>\n",
       "      <td>0.35</td>\n",
       "    </tr>\n",
       "    <tr>\n",
       "      <th>6</th>\n",
       "      <td>8.4</td>\n",
       "      <td>1.22</td>\n",
       "      <td>9.17</td>\n",
       "      <td>0.25</td>\n",
       "    </tr>\n",
       "    <tr>\n",
       "      <th>7</th>\n",
       "      <td>7.2</td>\n",
       "      <td>1.37</td>\n",
       "      <td>8.99</td>\n",
       "      <td>-0.95</td>\n",
       "    </tr>\n",
       "    <tr>\n",
       "      <th>8</th>\n",
       "      <td>9.1</td>\n",
       "      <td>1.25</td>\n",
       "      <td>9.57</td>\n",
       "      <td>0.95</td>\n",
       "    </tr>\n",
       "    <tr>\n",
       "      <th>9</th>\n",
       "      <td>7.6</td>\n",
       "      <td>1.40</td>\n",
       "      <td>8.80</td>\n",
       "      <td>-0.55</td>\n",
       "    </tr>\n",
       "    <tr>\n",
       "      <th>10</th>\n",
       "      <td>7.8</td>\n",
       "      <td>1.27</td>\n",
       "      <td>8.88</td>\n",
       "      <td>-0.35</td>\n",
       "    </tr>\n",
       "    <tr>\n",
       "      <th>11</th>\n",
       "      <td>7.9</td>\n",
       "      <td>1.63</td>\n",
       "      <td>8.90</td>\n",
       "      <td>-0.25</td>\n",
       "    </tr>\n",
       "  </tbody>\n",
       "</table>\n",
       "</div>"
      ],
      "text/plain": [
       "     X1    X2     Y  X1i-X1bar\n",
       "0   8.1  1.25  9.03      -0.05\n",
       "1   7.3  1.38  8.65      -0.85\n",
       "2   7.8  1.57  8.94      -0.35\n",
       "3   8.9  1.27  9.42       0.75\n",
       "4   9.2  1.67  9.58       1.05\n",
       "5   8.5  1.08  9.19       0.35\n",
       "6   8.4  1.22  9.17       0.25\n",
       "7   7.2  1.37  8.99      -0.95\n",
       "8   9.1  1.25  9.57       0.95\n",
       "9   7.6  1.40  8.80      -0.55\n",
       "10  7.8  1.27  8.88      -0.35\n",
       "11  7.9  1.63  8.90      -0.25"
      ]
     },
     "execution_count": 57,
     "metadata": {
      "tags": []
     },
     "output_type": "execute_result"
    }
   ],
   "source": [
    "X1_err = df[\"X1\"]-X1bar\n",
    "df[\"X1i-X1bar\"] = X1_err\n",
    "df"
   ]
  },
  {
   "cell_type": "code",
   "execution_count": 58,
   "metadata": {
    "colab": {
     "base_uri": "https://localhost:8080/",
     "height": 402
    },
    "id": "ChOHvrCR8nEM",
    "outputId": "7dbb72a2-57d0-4389-e33d-fcf8044bd874"
   },
   "outputs": [
    {
     "data": {
      "text/html": [
       "<div>\n",
       "<style scoped>\n",
       "    .dataframe tbody tr th:only-of-type {\n",
       "        vertical-align: middle;\n",
       "    }\n",
       "\n",
       "    .dataframe tbody tr th {\n",
       "        vertical-align: top;\n",
       "    }\n",
       "\n",
       "    .dataframe thead th {\n",
       "        text-align: right;\n",
       "    }\n",
       "</style>\n",
       "<table border=\"1\" class=\"dataframe\">\n",
       "  <thead>\n",
       "    <tr style=\"text-align: right;\">\n",
       "      <th></th>\n",
       "      <th>X1</th>\n",
       "      <th>X2</th>\n",
       "      <th>Y</th>\n",
       "      <th>X1i-X1bar</th>\n",
       "      <th>(X1i-X1bar)^2</th>\n",
       "    </tr>\n",
       "  </thead>\n",
       "  <tbody>\n",
       "    <tr>\n",
       "      <th>0</th>\n",
       "      <td>8.1</td>\n",
       "      <td>1.25</td>\n",
       "      <td>9.03</td>\n",
       "      <td>-0.05</td>\n",
       "      <td>0.0025</td>\n",
       "    </tr>\n",
       "    <tr>\n",
       "      <th>1</th>\n",
       "      <td>7.3</td>\n",
       "      <td>1.38</td>\n",
       "      <td>8.65</td>\n",
       "      <td>-0.85</td>\n",
       "      <td>0.7225</td>\n",
       "    </tr>\n",
       "    <tr>\n",
       "      <th>2</th>\n",
       "      <td>7.8</td>\n",
       "      <td>1.57</td>\n",
       "      <td>8.94</td>\n",
       "      <td>-0.35</td>\n",
       "      <td>0.1225</td>\n",
       "    </tr>\n",
       "    <tr>\n",
       "      <th>3</th>\n",
       "      <td>8.9</td>\n",
       "      <td>1.27</td>\n",
       "      <td>9.42</td>\n",
       "      <td>0.75</td>\n",
       "      <td>0.5625</td>\n",
       "    </tr>\n",
       "    <tr>\n",
       "      <th>4</th>\n",
       "      <td>9.2</td>\n",
       "      <td>1.67</td>\n",
       "      <td>9.58</td>\n",
       "      <td>1.05</td>\n",
       "      <td>1.1025</td>\n",
       "    </tr>\n",
       "    <tr>\n",
       "      <th>5</th>\n",
       "      <td>8.5</td>\n",
       "      <td>1.08</td>\n",
       "      <td>9.19</td>\n",
       "      <td>0.35</td>\n",
       "      <td>0.1225</td>\n",
       "    </tr>\n",
       "    <tr>\n",
       "      <th>6</th>\n",
       "      <td>8.4</td>\n",
       "      <td>1.22</td>\n",
       "      <td>9.17</td>\n",
       "      <td>0.25</td>\n",
       "      <td>0.0625</td>\n",
       "    </tr>\n",
       "    <tr>\n",
       "      <th>7</th>\n",
       "      <td>7.2</td>\n",
       "      <td>1.37</td>\n",
       "      <td>8.99</td>\n",
       "      <td>-0.95</td>\n",
       "      <td>0.9025</td>\n",
       "    </tr>\n",
       "    <tr>\n",
       "      <th>8</th>\n",
       "      <td>9.1</td>\n",
       "      <td>1.25</td>\n",
       "      <td>9.57</td>\n",
       "      <td>0.95</td>\n",
       "      <td>0.9025</td>\n",
       "    </tr>\n",
       "    <tr>\n",
       "      <th>9</th>\n",
       "      <td>7.6</td>\n",
       "      <td>1.40</td>\n",
       "      <td>8.80</td>\n",
       "      <td>-0.55</td>\n",
       "      <td>0.3025</td>\n",
       "    </tr>\n",
       "    <tr>\n",
       "      <th>10</th>\n",
       "      <td>7.8</td>\n",
       "      <td>1.27</td>\n",
       "      <td>8.88</td>\n",
       "      <td>-0.35</td>\n",
       "      <td>0.1225</td>\n",
       "    </tr>\n",
       "    <tr>\n",
       "      <th>11</th>\n",
       "      <td>7.9</td>\n",
       "      <td>1.63</td>\n",
       "      <td>8.90</td>\n",
       "      <td>-0.25</td>\n",
       "      <td>0.0625</td>\n",
       "    </tr>\n",
       "  </tbody>\n",
       "</table>\n",
       "</div>"
      ],
      "text/plain": [
       "     X1    X2     Y  X1i-X1bar  (X1i-X1bar)^2\n",
       "0   8.1  1.25  9.03      -0.05         0.0025\n",
       "1   7.3  1.38  8.65      -0.85         0.7225\n",
       "2   7.8  1.57  8.94      -0.35         0.1225\n",
       "3   8.9  1.27  9.42       0.75         0.5625\n",
       "4   9.2  1.67  9.58       1.05         1.1025\n",
       "5   8.5  1.08  9.19       0.35         0.1225\n",
       "6   8.4  1.22  9.17       0.25         0.0625\n",
       "7   7.2  1.37  8.99      -0.95         0.9025\n",
       "8   9.1  1.25  9.57       0.95         0.9025\n",
       "9   7.6  1.40  8.80      -0.55         0.3025\n",
       "10  7.8  1.27  8.88      -0.35         0.1225\n",
       "11  7.9  1.63  8.90      -0.25         0.0625"
      ]
     },
     "execution_count": 58,
     "metadata": {
      "tags": []
     },
     "output_type": "execute_result"
    }
   ],
   "source": [
    "X1_err2 = df[\"X1i-X1bar\"]*df[\"X1i-X1bar\"]\n",
    "df[\"(X1i-X1bar)^2\"] = X1_err2\n",
    "df"
   ]
  },
  {
   "cell_type": "code",
   "execution_count": 59,
   "metadata": {
    "colab": {
     "base_uri": "https://localhost:8080/",
     "height": 402
    },
    "id": "gZx_8aSD8TR2",
    "outputId": "022c89d3-f9a3-4d4a-b247-b63561a354e3"
   },
   "outputs": [
    {
     "data": {
      "text/html": [
       "<div>\n",
       "<style scoped>\n",
       "    .dataframe tbody tr th:only-of-type {\n",
       "        vertical-align: middle;\n",
       "    }\n",
       "\n",
       "    .dataframe tbody tr th {\n",
       "        vertical-align: top;\n",
       "    }\n",
       "\n",
       "    .dataframe thead th {\n",
       "        text-align: right;\n",
       "    }\n",
       "</style>\n",
       "<table border=\"1\" class=\"dataframe\">\n",
       "  <thead>\n",
       "    <tr style=\"text-align: right;\">\n",
       "      <th></th>\n",
       "      <th>X1</th>\n",
       "      <th>X2</th>\n",
       "      <th>Y</th>\n",
       "      <th>X1i-X1bar</th>\n",
       "      <th>(X1i-X1bar)^2</th>\n",
       "      <th>X2i-X2bar</th>\n",
       "    </tr>\n",
       "  </thead>\n",
       "  <tbody>\n",
       "    <tr>\n",
       "      <th>0</th>\n",
       "      <td>8.1</td>\n",
       "      <td>1.25</td>\n",
       "      <td>9.03</td>\n",
       "      <td>-0.05</td>\n",
       "      <td>0.0025</td>\n",
       "      <td>-0.113333</td>\n",
       "    </tr>\n",
       "    <tr>\n",
       "      <th>1</th>\n",
       "      <td>7.3</td>\n",
       "      <td>1.38</td>\n",
       "      <td>8.65</td>\n",
       "      <td>-0.85</td>\n",
       "      <td>0.7225</td>\n",
       "      <td>0.016667</td>\n",
       "    </tr>\n",
       "    <tr>\n",
       "      <th>2</th>\n",
       "      <td>7.8</td>\n",
       "      <td>1.57</td>\n",
       "      <td>8.94</td>\n",
       "      <td>-0.35</td>\n",
       "      <td>0.1225</td>\n",
       "      <td>0.206667</td>\n",
       "    </tr>\n",
       "    <tr>\n",
       "      <th>3</th>\n",
       "      <td>8.9</td>\n",
       "      <td>1.27</td>\n",
       "      <td>9.42</td>\n",
       "      <td>0.75</td>\n",
       "      <td>0.5625</td>\n",
       "      <td>-0.093333</td>\n",
       "    </tr>\n",
       "    <tr>\n",
       "      <th>4</th>\n",
       "      <td>9.2</td>\n",
       "      <td>1.67</td>\n",
       "      <td>9.58</td>\n",
       "      <td>1.05</td>\n",
       "      <td>1.1025</td>\n",
       "      <td>0.306667</td>\n",
       "    </tr>\n",
       "    <tr>\n",
       "      <th>5</th>\n",
       "      <td>8.5</td>\n",
       "      <td>1.08</td>\n",
       "      <td>9.19</td>\n",
       "      <td>0.35</td>\n",
       "      <td>0.1225</td>\n",
       "      <td>-0.283333</td>\n",
       "    </tr>\n",
       "    <tr>\n",
       "      <th>6</th>\n",
       "      <td>8.4</td>\n",
       "      <td>1.22</td>\n",
       "      <td>9.17</td>\n",
       "      <td>0.25</td>\n",
       "      <td>0.0625</td>\n",
       "      <td>-0.143333</td>\n",
       "    </tr>\n",
       "    <tr>\n",
       "      <th>7</th>\n",
       "      <td>7.2</td>\n",
       "      <td>1.37</td>\n",
       "      <td>8.99</td>\n",
       "      <td>-0.95</td>\n",
       "      <td>0.9025</td>\n",
       "      <td>0.006667</td>\n",
       "    </tr>\n",
       "    <tr>\n",
       "      <th>8</th>\n",
       "      <td>9.1</td>\n",
       "      <td>1.25</td>\n",
       "      <td>9.57</td>\n",
       "      <td>0.95</td>\n",
       "      <td>0.9025</td>\n",
       "      <td>-0.113333</td>\n",
       "    </tr>\n",
       "    <tr>\n",
       "      <th>9</th>\n",
       "      <td>7.6</td>\n",
       "      <td>1.40</td>\n",
       "      <td>8.80</td>\n",
       "      <td>-0.55</td>\n",
       "      <td>0.3025</td>\n",
       "      <td>0.036667</td>\n",
       "    </tr>\n",
       "    <tr>\n",
       "      <th>10</th>\n",
       "      <td>7.8</td>\n",
       "      <td>1.27</td>\n",
       "      <td>8.88</td>\n",
       "      <td>-0.35</td>\n",
       "      <td>0.1225</td>\n",
       "      <td>-0.093333</td>\n",
       "    </tr>\n",
       "    <tr>\n",
       "      <th>11</th>\n",
       "      <td>7.9</td>\n",
       "      <td>1.63</td>\n",
       "      <td>8.90</td>\n",
       "      <td>-0.25</td>\n",
       "      <td>0.0625</td>\n",
       "      <td>0.266667</td>\n",
       "    </tr>\n",
       "  </tbody>\n",
       "</table>\n",
       "</div>"
      ],
      "text/plain": [
       "     X1    X2     Y  X1i-X1bar  (X1i-X1bar)^2  X2i-X2bar\n",
       "0   8.1  1.25  9.03      -0.05         0.0025  -0.113333\n",
       "1   7.3  1.38  8.65      -0.85         0.7225   0.016667\n",
       "2   7.8  1.57  8.94      -0.35         0.1225   0.206667\n",
       "3   8.9  1.27  9.42       0.75         0.5625  -0.093333\n",
       "4   9.2  1.67  9.58       1.05         1.1025   0.306667\n",
       "5   8.5  1.08  9.19       0.35         0.1225  -0.283333\n",
       "6   8.4  1.22  9.17       0.25         0.0625  -0.143333\n",
       "7   7.2  1.37  8.99      -0.95         0.9025   0.006667\n",
       "8   9.1  1.25  9.57       0.95         0.9025  -0.113333\n",
       "9   7.6  1.40  8.80      -0.55         0.3025   0.036667\n",
       "10  7.8  1.27  8.88      -0.35         0.1225  -0.093333\n",
       "11  7.9  1.63  8.90      -0.25         0.0625   0.266667"
      ]
     },
     "execution_count": 59,
     "metadata": {
      "tags": []
     },
     "output_type": "execute_result"
    }
   ],
   "source": [
    "X2_err = df[\"X2\"]-X2bar\n",
    "df[\"X2i-X2bar\"] = X2_err\n",
    "df"
   ]
  },
  {
   "cell_type": "code",
   "execution_count": 60,
   "metadata": {
    "colab": {
     "base_uri": "https://localhost:8080/",
     "height": 402
    },
    "id": "kZOvKVF4887M",
    "outputId": "e063f898-30f6-404b-e5ee-0b718b07f433"
   },
   "outputs": [
    {
     "data": {
      "text/html": [
       "<div>\n",
       "<style scoped>\n",
       "    .dataframe tbody tr th:only-of-type {\n",
       "        vertical-align: middle;\n",
       "    }\n",
       "\n",
       "    .dataframe tbody tr th {\n",
       "        vertical-align: top;\n",
       "    }\n",
       "\n",
       "    .dataframe thead th {\n",
       "        text-align: right;\n",
       "    }\n",
       "</style>\n",
       "<table border=\"1\" class=\"dataframe\">\n",
       "  <thead>\n",
       "    <tr style=\"text-align: right;\">\n",
       "      <th></th>\n",
       "      <th>X1</th>\n",
       "      <th>X2</th>\n",
       "      <th>Y</th>\n",
       "      <th>X1i-X1bar</th>\n",
       "      <th>(X1i-X1bar)^2</th>\n",
       "      <th>X2i-X2bar</th>\n",
       "      <th>(X2i-X2bar)^2</th>\n",
       "    </tr>\n",
       "  </thead>\n",
       "  <tbody>\n",
       "    <tr>\n",
       "      <th>0</th>\n",
       "      <td>8.1</td>\n",
       "      <td>1.25</td>\n",
       "      <td>9.03</td>\n",
       "      <td>-0.05</td>\n",
       "      <td>0.0025</td>\n",
       "      <td>-0.113333</td>\n",
       "      <td>0.012844</td>\n",
       "    </tr>\n",
       "    <tr>\n",
       "      <th>1</th>\n",
       "      <td>7.3</td>\n",
       "      <td>1.38</td>\n",
       "      <td>8.65</td>\n",
       "      <td>-0.85</td>\n",
       "      <td>0.7225</td>\n",
       "      <td>0.016667</td>\n",
       "      <td>0.000278</td>\n",
       "    </tr>\n",
       "    <tr>\n",
       "      <th>2</th>\n",
       "      <td>7.8</td>\n",
       "      <td>1.57</td>\n",
       "      <td>8.94</td>\n",
       "      <td>-0.35</td>\n",
       "      <td>0.1225</td>\n",
       "      <td>0.206667</td>\n",
       "      <td>0.042711</td>\n",
       "    </tr>\n",
       "    <tr>\n",
       "      <th>3</th>\n",
       "      <td>8.9</td>\n",
       "      <td>1.27</td>\n",
       "      <td>9.42</td>\n",
       "      <td>0.75</td>\n",
       "      <td>0.5625</td>\n",
       "      <td>-0.093333</td>\n",
       "      <td>0.008711</td>\n",
       "    </tr>\n",
       "    <tr>\n",
       "      <th>4</th>\n",
       "      <td>9.2</td>\n",
       "      <td>1.67</td>\n",
       "      <td>9.58</td>\n",
       "      <td>1.05</td>\n",
       "      <td>1.1025</td>\n",
       "      <td>0.306667</td>\n",
       "      <td>0.094044</td>\n",
       "    </tr>\n",
       "    <tr>\n",
       "      <th>5</th>\n",
       "      <td>8.5</td>\n",
       "      <td>1.08</td>\n",
       "      <td>9.19</td>\n",
       "      <td>0.35</td>\n",
       "      <td>0.1225</td>\n",
       "      <td>-0.283333</td>\n",
       "      <td>0.080278</td>\n",
       "    </tr>\n",
       "    <tr>\n",
       "      <th>6</th>\n",
       "      <td>8.4</td>\n",
       "      <td>1.22</td>\n",
       "      <td>9.17</td>\n",
       "      <td>0.25</td>\n",
       "      <td>0.0625</td>\n",
       "      <td>-0.143333</td>\n",
       "      <td>0.020544</td>\n",
       "    </tr>\n",
       "    <tr>\n",
       "      <th>7</th>\n",
       "      <td>7.2</td>\n",
       "      <td>1.37</td>\n",
       "      <td>8.99</td>\n",
       "      <td>-0.95</td>\n",
       "      <td>0.9025</td>\n",
       "      <td>0.006667</td>\n",
       "      <td>0.000044</td>\n",
       "    </tr>\n",
       "    <tr>\n",
       "      <th>8</th>\n",
       "      <td>9.1</td>\n",
       "      <td>1.25</td>\n",
       "      <td>9.57</td>\n",
       "      <td>0.95</td>\n",
       "      <td>0.9025</td>\n",
       "      <td>-0.113333</td>\n",
       "      <td>0.012844</td>\n",
       "    </tr>\n",
       "    <tr>\n",
       "      <th>9</th>\n",
       "      <td>7.6</td>\n",
       "      <td>1.40</td>\n",
       "      <td>8.80</td>\n",
       "      <td>-0.55</td>\n",
       "      <td>0.3025</td>\n",
       "      <td>0.036667</td>\n",
       "      <td>0.001344</td>\n",
       "    </tr>\n",
       "    <tr>\n",
       "      <th>10</th>\n",
       "      <td>7.8</td>\n",
       "      <td>1.27</td>\n",
       "      <td>8.88</td>\n",
       "      <td>-0.35</td>\n",
       "      <td>0.1225</td>\n",
       "      <td>-0.093333</td>\n",
       "      <td>0.008711</td>\n",
       "    </tr>\n",
       "    <tr>\n",
       "      <th>11</th>\n",
       "      <td>7.9</td>\n",
       "      <td>1.63</td>\n",
       "      <td>8.90</td>\n",
       "      <td>-0.25</td>\n",
       "      <td>0.0625</td>\n",
       "      <td>0.266667</td>\n",
       "      <td>0.071111</td>\n",
       "    </tr>\n",
       "  </tbody>\n",
       "</table>\n",
       "</div>"
      ],
      "text/plain": [
       "     X1    X2     Y  X1i-X1bar  (X1i-X1bar)^2  X2i-X2bar  (X2i-X2bar)^2\n",
       "0   8.1  1.25  9.03      -0.05         0.0025  -0.113333       0.012844\n",
       "1   7.3  1.38  8.65      -0.85         0.7225   0.016667       0.000278\n",
       "2   7.8  1.57  8.94      -0.35         0.1225   0.206667       0.042711\n",
       "3   8.9  1.27  9.42       0.75         0.5625  -0.093333       0.008711\n",
       "4   9.2  1.67  9.58       1.05         1.1025   0.306667       0.094044\n",
       "5   8.5  1.08  9.19       0.35         0.1225  -0.283333       0.080278\n",
       "6   8.4  1.22  9.17       0.25         0.0625  -0.143333       0.020544\n",
       "7   7.2  1.37  8.99      -0.95         0.9025   0.006667       0.000044\n",
       "8   9.1  1.25  9.57       0.95         0.9025  -0.113333       0.012844\n",
       "9   7.6  1.40  8.80      -0.55         0.3025   0.036667       0.001344\n",
       "10  7.8  1.27  8.88      -0.35         0.1225  -0.093333       0.008711\n",
       "11  7.9  1.63  8.90      -0.25         0.0625   0.266667       0.071111"
      ]
     },
     "execution_count": 60,
     "metadata": {
      "tags": []
     },
     "output_type": "execute_result"
    }
   ],
   "source": [
    "X2_err2 = df[\"X2i-X2bar\"]*df[\"X2i-X2bar\"]\n",
    "df[\"(X2i-X2bar)^2\"] = X2_err2\n",
    "df"
   ]
  },
  {
   "cell_type": "markdown",
   "metadata": {
    "id": "pM9Gw2shMxTX"
   },
   "source": [
    "## Calculating (Xi - Xbar) * (Yi - Ybar)"
   ]
  },
  {
   "cell_type": "code",
   "execution_count": 61,
   "metadata": {
    "colab": {
     "base_uri": "https://localhost:8080/",
     "height": 402
    },
    "id": "9tikPz1L9GRz",
    "outputId": "877b7cbf-a6d6-4993-fa9c-bf20c1543729"
   },
   "outputs": [
    {
     "data": {
      "text/html": [
       "<div>\n",
       "<style scoped>\n",
       "    .dataframe tbody tr th:only-of-type {\n",
       "        vertical-align: middle;\n",
       "    }\n",
       "\n",
       "    .dataframe tbody tr th {\n",
       "        vertical-align: top;\n",
       "    }\n",
       "\n",
       "    .dataframe thead th {\n",
       "        text-align: right;\n",
       "    }\n",
       "</style>\n",
       "<table border=\"1\" class=\"dataframe\">\n",
       "  <thead>\n",
       "    <tr style=\"text-align: right;\">\n",
       "      <th></th>\n",
       "      <th>X1</th>\n",
       "      <th>X2</th>\n",
       "      <th>Y</th>\n",
       "      <th>X1i-X1bar</th>\n",
       "      <th>(X1i-X1bar)^2</th>\n",
       "      <th>X2i-X2bar</th>\n",
       "      <th>(X2i-X2bar)^2</th>\n",
       "      <th>Yi-Ybar</th>\n",
       "    </tr>\n",
       "  </thead>\n",
       "  <tbody>\n",
       "    <tr>\n",
       "      <th>0</th>\n",
       "      <td>8.1</td>\n",
       "      <td>1.25</td>\n",
       "      <td>9.03</td>\n",
       "      <td>-0.05</td>\n",
       "      <td>0.0025</td>\n",
       "      <td>-0.113333</td>\n",
       "      <td>0.012844</td>\n",
       "      <td>-0.063333</td>\n",
       "    </tr>\n",
       "    <tr>\n",
       "      <th>1</th>\n",
       "      <td>7.3</td>\n",
       "      <td>1.38</td>\n",
       "      <td>8.65</td>\n",
       "      <td>-0.85</td>\n",
       "      <td>0.7225</td>\n",
       "      <td>0.016667</td>\n",
       "      <td>0.000278</td>\n",
       "      <td>-0.443333</td>\n",
       "    </tr>\n",
       "    <tr>\n",
       "      <th>2</th>\n",
       "      <td>7.8</td>\n",
       "      <td>1.57</td>\n",
       "      <td>8.94</td>\n",
       "      <td>-0.35</td>\n",
       "      <td>0.1225</td>\n",
       "      <td>0.206667</td>\n",
       "      <td>0.042711</td>\n",
       "      <td>-0.153333</td>\n",
       "    </tr>\n",
       "    <tr>\n",
       "      <th>3</th>\n",
       "      <td>8.9</td>\n",
       "      <td>1.27</td>\n",
       "      <td>9.42</td>\n",
       "      <td>0.75</td>\n",
       "      <td>0.5625</td>\n",
       "      <td>-0.093333</td>\n",
       "      <td>0.008711</td>\n",
       "      <td>0.326667</td>\n",
       "    </tr>\n",
       "    <tr>\n",
       "      <th>4</th>\n",
       "      <td>9.2</td>\n",
       "      <td>1.67</td>\n",
       "      <td>9.58</td>\n",
       "      <td>1.05</td>\n",
       "      <td>1.1025</td>\n",
       "      <td>0.306667</td>\n",
       "      <td>0.094044</td>\n",
       "      <td>0.486667</td>\n",
       "    </tr>\n",
       "    <tr>\n",
       "      <th>5</th>\n",
       "      <td>8.5</td>\n",
       "      <td>1.08</td>\n",
       "      <td>9.19</td>\n",
       "      <td>0.35</td>\n",
       "      <td>0.1225</td>\n",
       "      <td>-0.283333</td>\n",
       "      <td>0.080278</td>\n",
       "      <td>0.096667</td>\n",
       "    </tr>\n",
       "    <tr>\n",
       "      <th>6</th>\n",
       "      <td>8.4</td>\n",
       "      <td>1.22</td>\n",
       "      <td>9.17</td>\n",
       "      <td>0.25</td>\n",
       "      <td>0.0625</td>\n",
       "      <td>-0.143333</td>\n",
       "      <td>0.020544</td>\n",
       "      <td>0.076667</td>\n",
       "    </tr>\n",
       "    <tr>\n",
       "      <th>7</th>\n",
       "      <td>7.2</td>\n",
       "      <td>1.37</td>\n",
       "      <td>8.99</td>\n",
       "      <td>-0.95</td>\n",
       "      <td>0.9025</td>\n",
       "      <td>0.006667</td>\n",
       "      <td>0.000044</td>\n",
       "      <td>-0.103333</td>\n",
       "    </tr>\n",
       "    <tr>\n",
       "      <th>8</th>\n",
       "      <td>9.1</td>\n",
       "      <td>1.25</td>\n",
       "      <td>9.57</td>\n",
       "      <td>0.95</td>\n",
       "      <td>0.9025</td>\n",
       "      <td>-0.113333</td>\n",
       "      <td>0.012844</td>\n",
       "      <td>0.476667</td>\n",
       "    </tr>\n",
       "    <tr>\n",
       "      <th>9</th>\n",
       "      <td>7.6</td>\n",
       "      <td>1.40</td>\n",
       "      <td>8.80</td>\n",
       "      <td>-0.55</td>\n",
       "      <td>0.3025</td>\n",
       "      <td>0.036667</td>\n",
       "      <td>0.001344</td>\n",
       "      <td>-0.293333</td>\n",
       "    </tr>\n",
       "    <tr>\n",
       "      <th>10</th>\n",
       "      <td>7.8</td>\n",
       "      <td>1.27</td>\n",
       "      <td>8.88</td>\n",
       "      <td>-0.35</td>\n",
       "      <td>0.1225</td>\n",
       "      <td>-0.093333</td>\n",
       "      <td>0.008711</td>\n",
       "      <td>-0.213333</td>\n",
       "    </tr>\n",
       "    <tr>\n",
       "      <th>11</th>\n",
       "      <td>7.9</td>\n",
       "      <td>1.63</td>\n",
       "      <td>8.90</td>\n",
       "      <td>-0.25</td>\n",
       "      <td>0.0625</td>\n",
       "      <td>0.266667</td>\n",
       "      <td>0.071111</td>\n",
       "      <td>-0.193333</td>\n",
       "    </tr>\n",
       "  </tbody>\n",
       "</table>\n",
       "</div>"
      ],
      "text/plain": [
       "     X1    X2     Y  ...  X2i-X2bar  (X2i-X2bar)^2   Yi-Ybar\n",
       "0   8.1  1.25  9.03  ...  -0.113333       0.012844 -0.063333\n",
       "1   7.3  1.38  8.65  ...   0.016667       0.000278 -0.443333\n",
       "2   7.8  1.57  8.94  ...   0.206667       0.042711 -0.153333\n",
       "3   8.9  1.27  9.42  ...  -0.093333       0.008711  0.326667\n",
       "4   9.2  1.67  9.58  ...   0.306667       0.094044  0.486667\n",
       "5   8.5  1.08  9.19  ...  -0.283333       0.080278  0.096667\n",
       "6   8.4  1.22  9.17  ...  -0.143333       0.020544  0.076667\n",
       "7   7.2  1.37  8.99  ...   0.006667       0.000044 -0.103333\n",
       "8   9.1  1.25  9.57  ...  -0.113333       0.012844  0.476667\n",
       "9   7.6  1.40  8.80  ...   0.036667       0.001344 -0.293333\n",
       "10  7.8  1.27  8.88  ...  -0.093333       0.008711 -0.213333\n",
       "11  7.9  1.63  8.90  ...   0.266667       0.071111 -0.193333\n",
       "\n",
       "[12 rows x 8 columns]"
      ]
     },
     "execution_count": 61,
     "metadata": {
      "tags": []
     },
     "output_type": "execute_result"
    }
   ],
   "source": [
    "Y_err = df[\"Y\"]-Ybar\n",
    "df[\"Yi-Ybar\"] = Y_err\n",
    "df"
   ]
  },
  {
   "cell_type": "code",
   "execution_count": 62,
   "metadata": {
    "colab": {
     "base_uri": "https://localhost:8080/",
     "height": 402
    },
    "id": "GBTOJCbB9XhL",
    "outputId": "500ec6f3-ebc2-4ba9-fb5c-cb4864b9bc0c"
   },
   "outputs": [
    {
     "data": {
      "text/html": [
       "<div>\n",
       "<style scoped>\n",
       "    .dataframe tbody tr th:only-of-type {\n",
       "        vertical-align: middle;\n",
       "    }\n",
       "\n",
       "    .dataframe tbody tr th {\n",
       "        vertical-align: top;\n",
       "    }\n",
       "\n",
       "    .dataframe thead th {\n",
       "        text-align: right;\n",
       "    }\n",
       "</style>\n",
       "<table border=\"1\" class=\"dataframe\">\n",
       "  <thead>\n",
       "    <tr style=\"text-align: right;\">\n",
       "      <th></th>\n",
       "      <th>X1</th>\n",
       "      <th>X2</th>\n",
       "      <th>Y</th>\n",
       "      <th>X1i-X1bar</th>\n",
       "      <th>(X1i-X1bar)^2</th>\n",
       "      <th>X2i-X2bar</th>\n",
       "      <th>(X2i-X2bar)^2</th>\n",
       "      <th>Yi-Ybar</th>\n",
       "      <th>(X1i-X1bar)*(Yi-Ybar)</th>\n",
       "    </tr>\n",
       "  </thead>\n",
       "  <tbody>\n",
       "    <tr>\n",
       "      <th>0</th>\n",
       "      <td>8.1</td>\n",
       "      <td>1.25</td>\n",
       "      <td>9.03</td>\n",
       "      <td>-0.05</td>\n",
       "      <td>0.0025</td>\n",
       "      <td>-0.113333</td>\n",
       "      <td>0.012844</td>\n",
       "      <td>-0.063333</td>\n",
       "      <td>0.003167</td>\n",
       "    </tr>\n",
       "    <tr>\n",
       "      <th>1</th>\n",
       "      <td>7.3</td>\n",
       "      <td>1.38</td>\n",
       "      <td>8.65</td>\n",
       "      <td>-0.85</td>\n",
       "      <td>0.7225</td>\n",
       "      <td>0.016667</td>\n",
       "      <td>0.000278</td>\n",
       "      <td>-0.443333</td>\n",
       "      <td>0.376833</td>\n",
       "    </tr>\n",
       "    <tr>\n",
       "      <th>2</th>\n",
       "      <td>7.8</td>\n",
       "      <td>1.57</td>\n",
       "      <td>8.94</td>\n",
       "      <td>-0.35</td>\n",
       "      <td>0.1225</td>\n",
       "      <td>0.206667</td>\n",
       "      <td>0.042711</td>\n",
       "      <td>-0.153333</td>\n",
       "      <td>0.053667</td>\n",
       "    </tr>\n",
       "    <tr>\n",
       "      <th>3</th>\n",
       "      <td>8.9</td>\n",
       "      <td>1.27</td>\n",
       "      <td>9.42</td>\n",
       "      <td>0.75</td>\n",
       "      <td>0.5625</td>\n",
       "      <td>-0.093333</td>\n",
       "      <td>0.008711</td>\n",
       "      <td>0.326667</td>\n",
       "      <td>0.245000</td>\n",
       "    </tr>\n",
       "    <tr>\n",
       "      <th>4</th>\n",
       "      <td>9.2</td>\n",
       "      <td>1.67</td>\n",
       "      <td>9.58</td>\n",
       "      <td>1.05</td>\n",
       "      <td>1.1025</td>\n",
       "      <td>0.306667</td>\n",
       "      <td>0.094044</td>\n",
       "      <td>0.486667</td>\n",
       "      <td>0.511000</td>\n",
       "    </tr>\n",
       "    <tr>\n",
       "      <th>5</th>\n",
       "      <td>8.5</td>\n",
       "      <td>1.08</td>\n",
       "      <td>9.19</td>\n",
       "      <td>0.35</td>\n",
       "      <td>0.1225</td>\n",
       "      <td>-0.283333</td>\n",
       "      <td>0.080278</td>\n",
       "      <td>0.096667</td>\n",
       "      <td>0.033833</td>\n",
       "    </tr>\n",
       "    <tr>\n",
       "      <th>6</th>\n",
       "      <td>8.4</td>\n",
       "      <td>1.22</td>\n",
       "      <td>9.17</td>\n",
       "      <td>0.25</td>\n",
       "      <td>0.0625</td>\n",
       "      <td>-0.143333</td>\n",
       "      <td>0.020544</td>\n",
       "      <td>0.076667</td>\n",
       "      <td>0.019167</td>\n",
       "    </tr>\n",
       "    <tr>\n",
       "      <th>7</th>\n",
       "      <td>7.2</td>\n",
       "      <td>1.37</td>\n",
       "      <td>8.99</td>\n",
       "      <td>-0.95</td>\n",
       "      <td>0.9025</td>\n",
       "      <td>0.006667</td>\n",
       "      <td>0.000044</td>\n",
       "      <td>-0.103333</td>\n",
       "      <td>0.098167</td>\n",
       "    </tr>\n",
       "    <tr>\n",
       "      <th>8</th>\n",
       "      <td>9.1</td>\n",
       "      <td>1.25</td>\n",
       "      <td>9.57</td>\n",
       "      <td>0.95</td>\n",
       "      <td>0.9025</td>\n",
       "      <td>-0.113333</td>\n",
       "      <td>0.012844</td>\n",
       "      <td>0.476667</td>\n",
       "      <td>0.452833</td>\n",
       "    </tr>\n",
       "    <tr>\n",
       "      <th>9</th>\n",
       "      <td>7.6</td>\n",
       "      <td>1.40</td>\n",
       "      <td>8.80</td>\n",
       "      <td>-0.55</td>\n",
       "      <td>0.3025</td>\n",
       "      <td>0.036667</td>\n",
       "      <td>0.001344</td>\n",
       "      <td>-0.293333</td>\n",
       "      <td>0.161333</td>\n",
       "    </tr>\n",
       "    <tr>\n",
       "      <th>10</th>\n",
       "      <td>7.8</td>\n",
       "      <td>1.27</td>\n",
       "      <td>8.88</td>\n",
       "      <td>-0.35</td>\n",
       "      <td>0.1225</td>\n",
       "      <td>-0.093333</td>\n",
       "      <td>0.008711</td>\n",
       "      <td>-0.213333</td>\n",
       "      <td>0.074667</td>\n",
       "    </tr>\n",
       "    <tr>\n",
       "      <th>11</th>\n",
       "      <td>7.9</td>\n",
       "      <td>1.63</td>\n",
       "      <td>8.90</td>\n",
       "      <td>-0.25</td>\n",
       "      <td>0.0625</td>\n",
       "      <td>0.266667</td>\n",
       "      <td>0.071111</td>\n",
       "      <td>-0.193333</td>\n",
       "      <td>0.048333</td>\n",
       "    </tr>\n",
       "  </tbody>\n",
       "</table>\n",
       "</div>"
      ],
      "text/plain": [
       "     X1    X2     Y  ...  (X2i-X2bar)^2   Yi-Ybar  (X1i-X1bar)*(Yi-Ybar)\n",
       "0   8.1  1.25  9.03  ...       0.012844 -0.063333               0.003167\n",
       "1   7.3  1.38  8.65  ...       0.000278 -0.443333               0.376833\n",
       "2   7.8  1.57  8.94  ...       0.042711 -0.153333               0.053667\n",
       "3   8.9  1.27  9.42  ...       0.008711  0.326667               0.245000\n",
       "4   9.2  1.67  9.58  ...       0.094044  0.486667               0.511000\n",
       "5   8.5  1.08  9.19  ...       0.080278  0.096667               0.033833\n",
       "6   8.4  1.22  9.17  ...       0.020544  0.076667               0.019167\n",
       "7   7.2  1.37  8.99  ...       0.000044 -0.103333               0.098167\n",
       "8   9.1  1.25  9.57  ...       0.012844  0.476667               0.452833\n",
       "9   7.6  1.40  8.80  ...       0.001344 -0.293333               0.161333\n",
       "10  7.8  1.27  8.88  ...       0.008711 -0.213333               0.074667\n",
       "11  7.9  1.63  8.90  ...       0.071111 -0.193333               0.048333\n",
       "\n",
       "[12 rows x 9 columns]"
      ]
     },
     "execution_count": 62,
     "metadata": {
      "tags": []
     },
     "output_type": "execute_result"
    }
   ],
   "source": [
    "X1Y_err = df[\"X1i-X1bar\"]*df[\"Yi-Ybar\"]\n",
    "df[\"(X1i-X1bar)*(Yi-Ybar)\"] = X1Y_err\n",
    "df"
   ]
  },
  {
   "cell_type": "code",
   "execution_count": 63,
   "metadata": {
    "colab": {
     "base_uri": "https://localhost:8080/",
     "height": 402
    },
    "id": "tqecee5AEP2F",
    "outputId": "6d40f18a-b971-4b24-9491-7c6138fcca64"
   },
   "outputs": [
    {
     "data": {
      "text/html": [
       "<div>\n",
       "<style scoped>\n",
       "    .dataframe tbody tr th:only-of-type {\n",
       "        vertical-align: middle;\n",
       "    }\n",
       "\n",
       "    .dataframe tbody tr th {\n",
       "        vertical-align: top;\n",
       "    }\n",
       "\n",
       "    .dataframe thead th {\n",
       "        text-align: right;\n",
       "    }\n",
       "</style>\n",
       "<table border=\"1\" class=\"dataframe\">\n",
       "  <thead>\n",
       "    <tr style=\"text-align: right;\">\n",
       "      <th></th>\n",
       "      <th>X1</th>\n",
       "      <th>X2</th>\n",
       "      <th>Y</th>\n",
       "      <th>X1i-X1bar</th>\n",
       "      <th>(X1i-X1bar)^2</th>\n",
       "      <th>X2i-X2bar</th>\n",
       "      <th>(X2i-X2bar)^2</th>\n",
       "      <th>Yi-Ybar</th>\n",
       "      <th>(X1i-X1bar)*(Yi-Ybar)</th>\n",
       "      <th>(X2i-X2bar)*(Yi-Ybar)</th>\n",
       "    </tr>\n",
       "  </thead>\n",
       "  <tbody>\n",
       "    <tr>\n",
       "      <th>0</th>\n",
       "      <td>8.1</td>\n",
       "      <td>1.25</td>\n",
       "      <td>9.03</td>\n",
       "      <td>-0.05</td>\n",
       "      <td>0.0025</td>\n",
       "      <td>-0.113333</td>\n",
       "      <td>0.012844</td>\n",
       "      <td>-0.063333</td>\n",
       "      <td>0.003167</td>\n",
       "      <td>0.007178</td>\n",
       "    </tr>\n",
       "    <tr>\n",
       "      <th>1</th>\n",
       "      <td>7.3</td>\n",
       "      <td>1.38</td>\n",
       "      <td>8.65</td>\n",
       "      <td>-0.85</td>\n",
       "      <td>0.7225</td>\n",
       "      <td>0.016667</td>\n",
       "      <td>0.000278</td>\n",
       "      <td>-0.443333</td>\n",
       "      <td>0.376833</td>\n",
       "      <td>-0.007389</td>\n",
       "    </tr>\n",
       "    <tr>\n",
       "      <th>2</th>\n",
       "      <td>7.8</td>\n",
       "      <td>1.57</td>\n",
       "      <td>8.94</td>\n",
       "      <td>-0.35</td>\n",
       "      <td>0.1225</td>\n",
       "      <td>0.206667</td>\n",
       "      <td>0.042711</td>\n",
       "      <td>-0.153333</td>\n",
       "      <td>0.053667</td>\n",
       "      <td>-0.031689</td>\n",
       "    </tr>\n",
       "    <tr>\n",
       "      <th>3</th>\n",
       "      <td>8.9</td>\n",
       "      <td>1.27</td>\n",
       "      <td>9.42</td>\n",
       "      <td>0.75</td>\n",
       "      <td>0.5625</td>\n",
       "      <td>-0.093333</td>\n",
       "      <td>0.008711</td>\n",
       "      <td>0.326667</td>\n",
       "      <td>0.245000</td>\n",
       "      <td>-0.030489</td>\n",
       "    </tr>\n",
       "    <tr>\n",
       "      <th>4</th>\n",
       "      <td>9.2</td>\n",
       "      <td>1.67</td>\n",
       "      <td>9.58</td>\n",
       "      <td>1.05</td>\n",
       "      <td>1.1025</td>\n",
       "      <td>0.306667</td>\n",
       "      <td>0.094044</td>\n",
       "      <td>0.486667</td>\n",
       "      <td>0.511000</td>\n",
       "      <td>0.149244</td>\n",
       "    </tr>\n",
       "    <tr>\n",
       "      <th>5</th>\n",
       "      <td>8.5</td>\n",
       "      <td>1.08</td>\n",
       "      <td>9.19</td>\n",
       "      <td>0.35</td>\n",
       "      <td>0.1225</td>\n",
       "      <td>-0.283333</td>\n",
       "      <td>0.080278</td>\n",
       "      <td>0.096667</td>\n",
       "      <td>0.033833</td>\n",
       "      <td>-0.027389</td>\n",
       "    </tr>\n",
       "    <tr>\n",
       "      <th>6</th>\n",
       "      <td>8.4</td>\n",
       "      <td>1.22</td>\n",
       "      <td>9.17</td>\n",
       "      <td>0.25</td>\n",
       "      <td>0.0625</td>\n",
       "      <td>-0.143333</td>\n",
       "      <td>0.020544</td>\n",
       "      <td>0.076667</td>\n",
       "      <td>0.019167</td>\n",
       "      <td>-0.010989</td>\n",
       "    </tr>\n",
       "    <tr>\n",
       "      <th>7</th>\n",
       "      <td>7.2</td>\n",
       "      <td>1.37</td>\n",
       "      <td>8.99</td>\n",
       "      <td>-0.95</td>\n",
       "      <td>0.9025</td>\n",
       "      <td>0.006667</td>\n",
       "      <td>0.000044</td>\n",
       "      <td>-0.103333</td>\n",
       "      <td>0.098167</td>\n",
       "      <td>-0.000689</td>\n",
       "    </tr>\n",
       "    <tr>\n",
       "      <th>8</th>\n",
       "      <td>9.1</td>\n",
       "      <td>1.25</td>\n",
       "      <td>9.57</td>\n",
       "      <td>0.95</td>\n",
       "      <td>0.9025</td>\n",
       "      <td>-0.113333</td>\n",
       "      <td>0.012844</td>\n",
       "      <td>0.476667</td>\n",
       "      <td>0.452833</td>\n",
       "      <td>-0.054022</td>\n",
       "    </tr>\n",
       "    <tr>\n",
       "      <th>9</th>\n",
       "      <td>7.6</td>\n",
       "      <td>1.40</td>\n",
       "      <td>8.80</td>\n",
       "      <td>-0.55</td>\n",
       "      <td>0.3025</td>\n",
       "      <td>0.036667</td>\n",
       "      <td>0.001344</td>\n",
       "      <td>-0.293333</td>\n",
       "      <td>0.161333</td>\n",
       "      <td>-0.010756</td>\n",
       "    </tr>\n",
       "    <tr>\n",
       "      <th>10</th>\n",
       "      <td>7.8</td>\n",
       "      <td>1.27</td>\n",
       "      <td>8.88</td>\n",
       "      <td>-0.35</td>\n",
       "      <td>0.1225</td>\n",
       "      <td>-0.093333</td>\n",
       "      <td>0.008711</td>\n",
       "      <td>-0.213333</td>\n",
       "      <td>0.074667</td>\n",
       "      <td>0.019911</td>\n",
       "    </tr>\n",
       "    <tr>\n",
       "      <th>11</th>\n",
       "      <td>7.9</td>\n",
       "      <td>1.63</td>\n",
       "      <td>8.90</td>\n",
       "      <td>-0.25</td>\n",
       "      <td>0.0625</td>\n",
       "      <td>0.266667</td>\n",
       "      <td>0.071111</td>\n",
       "      <td>-0.193333</td>\n",
       "      <td>0.048333</td>\n",
       "      <td>-0.051556</td>\n",
       "    </tr>\n",
       "  </tbody>\n",
       "</table>\n",
       "</div>"
      ],
      "text/plain": [
       "     X1    X2     Y  ...   Yi-Ybar  (X1i-X1bar)*(Yi-Ybar)  (X2i-X2bar)*(Yi-Ybar)\n",
       "0   8.1  1.25  9.03  ... -0.063333               0.003167               0.007178\n",
       "1   7.3  1.38  8.65  ... -0.443333               0.376833              -0.007389\n",
       "2   7.8  1.57  8.94  ... -0.153333               0.053667              -0.031689\n",
       "3   8.9  1.27  9.42  ...  0.326667               0.245000              -0.030489\n",
       "4   9.2  1.67  9.58  ...  0.486667               0.511000               0.149244\n",
       "5   8.5  1.08  9.19  ...  0.096667               0.033833              -0.027389\n",
       "6   8.4  1.22  9.17  ...  0.076667               0.019167              -0.010989\n",
       "7   7.2  1.37  8.99  ... -0.103333               0.098167              -0.000689\n",
       "8   9.1  1.25  9.57  ...  0.476667               0.452833              -0.054022\n",
       "9   7.6  1.40  8.80  ... -0.293333               0.161333              -0.010756\n",
       "10  7.8  1.27  8.88  ... -0.213333               0.074667               0.019911\n",
       "11  7.9  1.63  8.90  ... -0.193333               0.048333              -0.051556\n",
       "\n",
       "[12 rows x 10 columns]"
      ]
     },
     "execution_count": 63,
     "metadata": {
      "tags": []
     },
     "output_type": "execute_result"
    }
   ],
   "source": [
    "X2Y_err = df[\"X2i-X2bar\"]*df[\"Yi-Ybar\"]\n",
    "df[\"(X2i-X2bar)*(Yi-Ybar)\"] = X2Y_err\n",
    "df"
   ]
  },
  {
   "cell_type": "markdown",
   "metadata": {
    "id": "jF0a5S2bRlfI"
   },
   "source": [
    "**Final Dataset**"
   ]
  },
  {
   "cell_type": "code",
   "execution_count": 97,
   "metadata": {
    "colab": {
     "base_uri": "https://localhost:8080/"
    },
    "id": "Uck35GqZPN4P",
    "outputId": "5342de25-a276-4e2f-82c9-dcf598561736"
   },
   "outputs": [
    {
     "name": "stdout",
     "output_type": "stream",
     "text": [
      "     X1    X2     Y  ...   Yi-Ybar  (X1i-X1bar)*(Yi-Ybar)  (X2i-X2bar)*(Yi-Ybar)\n",
      "0   8.1  1.25  9.03  ... -0.063333               0.003167               0.007178\n",
      "1   7.3  1.38  8.65  ... -0.443333               0.376833              -0.007389\n",
      "2   7.8  1.57  8.94  ... -0.153333               0.053667              -0.031689\n",
      "3   8.9  1.27  9.42  ...  0.326667               0.245000              -0.030489\n",
      "4   9.2  1.67  9.58  ...  0.486667               0.511000               0.149244\n",
      "5   8.5  1.08  9.19  ...  0.096667               0.033833              -0.027389\n",
      "6   8.4  1.22  9.17  ...  0.076667               0.019167              -0.010989\n",
      "7   7.2  1.37  8.99  ... -0.103333               0.098167              -0.000689\n",
      "8   9.1  1.25  9.57  ...  0.476667               0.452833              -0.054022\n",
      "9   7.6  1.40  8.80  ... -0.293333               0.161333              -0.010756\n",
      "10  7.8  1.27  8.88  ... -0.213333               0.074667               0.019911\n",
      "11  7.9  1.63  8.90  ... -0.193333               0.048333              -0.051556\n",
      "\n",
      "[12 rows x 10 columns]\n"
     ]
    }
   ],
   "source": [
    "print(df)"
   ]
  },
  {
   "cell_type": "markdown",
   "metadata": {
    "id": "4uBgNDWKM_BI"
   },
   "source": [
    "## Calculating summations, w1, w2 and w0"
   ]
  },
  {
   "cell_type": "code",
   "execution_count": 80,
   "metadata": {
    "colab": {
     "base_uri": "https://localhost:8080/"
    },
    "id": "Mob3kzCDFYqf",
    "outputId": "bfd90a38-0840-4b38-f3e2-46fbb7ee2929"
   },
   "outputs": [
    {
     "data": {
      "text/plain": [
       "2.0779999999999985"
      ]
     },
     "execution_count": 80,
     "metadata": {
      "tags": []
     },
     "output_type": "execute_result"
    }
   ],
   "source": [
    "sum_mul_X1 = df[\"(X1i-X1bar)*(Yi-Ybar)\"].sum(axis=0)\n",
    "sum_mul_X1"
   ]
  },
  {
   "cell_type": "code",
   "execution_count": 81,
   "metadata": {
    "colab": {
     "base_uri": "https://localhost:8080/"
    },
    "id": "S7m99Ax3EZJI",
    "outputId": "5c746e35-c552-4472-8c0c-808b0df6cf54"
   },
   "outputs": [
    {
     "data": {
      "text/plain": [
       "4.989999999999998"
      ]
     },
     "execution_count": 81,
     "metadata": {
      "tags": []
     },
     "output_type": "execute_result"
    }
   ],
   "source": [
    "sum_sq_X1 = df[\"(X1i-X1bar)^2\"].sum(axis=0)\n",
    "sum_sq_X1"
   ]
  },
  {
   "cell_type": "code",
   "execution_count": 89,
   "metadata": {
    "colab": {
     "base_uri": "https://localhost:8080/"
    },
    "id": "x18UiDThFn4W",
    "outputId": "02c1fc51-fa1a-43a7-c5e2-09f5a897f784"
   },
   "outputs": [
    {
     "data": {
      "text/plain": [
       "-0.04863333333333311"
      ]
     },
     "execution_count": 89,
     "metadata": {
      "tags": []
     },
     "output_type": "execute_result"
    }
   ],
   "source": [
    "sum_mul_X2 = df[\"(X2i-X2bar)*(Yi-Ybar)\"].sum(axis=0)\n",
    "sum_mul_X2"
   ]
  },
  {
   "cell_type": "code",
   "execution_count": 90,
   "metadata": {
    "colab": {
     "base_uri": "https://localhost:8080/"
    },
    "id": "MqITMkbTFwMv",
    "outputId": "af927103-01c2-4dd2-9e76-b8c0f11f70e2"
   },
   "outputs": [
    {
     "data": {
      "text/plain": [
       "0.35346666666666654"
      ]
     },
     "execution_count": 90,
     "metadata": {
      "tags": []
     },
     "output_type": "execute_result"
    }
   ],
   "source": [
    "sum_sq_X2 = df[\"(X2i-X2bar)^2\"].sum(axis=0)\n",
    "sum_sq_X2"
   ]
  },
  {
   "cell_type": "markdown",
   "metadata": {
    "id": "Qj4SbzO_F_YO"
   },
   "source": [
    "**Formulae**\n",
    "\n",
    "y = w0 + w1 * x1 + w2 * x2\n",
    "\n",
    "w1 = sum_mul_X1 / sum_sq_X1 \n",
    "\n",
    "w2 = sum_mul_X2 / sum_sq_X2"
   ]
  },
  {
   "cell_type": "code",
   "execution_count": 91,
   "metadata": {
    "colab": {
     "base_uri": "https://localhost:8080/"
    },
    "id": "Bl0B5_FAF4AA",
    "outputId": "d5391ced-4368-4b49-8ede-8afec6e811d5"
   },
   "outputs": [
    {
     "name": "stdout",
     "output_type": "stream",
     "text": [
      "w1 =  0.41643286573146276\n",
      "w2 =  -0.13758958883440153\n"
     ]
    }
   ],
   "source": [
    "w1 = sum_mul_X1 / sum_sq_X1\n",
    "w2 = sum_mul_X2 / sum_sq_X2\n",
    "\n",
    "print(\"w1 = \", w1)\n",
    "print(\"w2 = \", w2)"
   ]
  },
  {
   "cell_type": "code",
   "execution_count": 92,
   "metadata": {
    "colab": {
     "base_uri": "https://localhost:8080/"
    },
    "id": "P8wl7keoHNZq",
    "outputId": "5307f9e8-5195-474a-e8b5-1029c57cf915"
   },
   "outputs": [
    {
     "data": {
      "text/plain": [
       "5.886985950399478"
      ]
     },
     "execution_count": 92,
     "metadata": {
      "tags": []
     },
     "output_type": "execute_result"
    }
   ],
   "source": [
    "w0 = Ybar - w1*X1bar - w2*X2bar\n",
    "w0"
   ]
  },
  {
   "cell_type": "markdown",
   "metadata": {
    "id": "u8-TkJVlIyjR"
   },
   "source": [
    "**Results**\n",
    "\n",
    "w1 =  0.41643286573146276\n",
    "\n",
    "w2 =  -0.13758958883440153"
   ]
  },
  {
   "cell_type": "markdown",
   "metadata": {
    "id": "0bJzWZRpJKTk"
   },
   "source": [
    "## Predicting values"
   ]
  },
  {
   "cell_type": "markdown",
   "metadata": {
    "id": "OmG9XY-VHvxC"
   },
   "source": [
    "**Calcutating y_pred for x1 = 9.57 and x2 = 1.67**"
   ]
  },
  {
   "cell_type": "code",
   "execution_count": 93,
   "metadata": {
    "colab": {
     "base_uri": "https://localhost:8080/"
    },
    "id": "poiggXIhHfwP",
    "outputId": "1f3f20ff-66d9-47b4-b1ef-427c5edf84a8"
   },
   "outputs": [
    {
     "data": {
      "text/plain": [
       "9.642473862096127"
      ]
     },
     "execution_count": 93,
     "metadata": {
      "tags": []
     },
     "output_type": "execute_result"
    }
   ],
   "source": [
    "x1 = 9.57\n",
    "x2 = 1.67\n",
    "Y_pred = w0 + w1*x1 + w2*x2\n",
    "Y_pred"
   ]
  },
  {
   "cell_type": "markdown",
   "metadata": {
    "id": "Y0NPwJGjId44"
   },
   "source": [
    "**Calcutating y_pred for x1 = 7 and x2 = 1.15**"
   ]
  },
  {
   "cell_type": "code",
   "execution_count": 94,
   "metadata": {
    "colab": {
     "base_uri": "https://localhost:8080/"
    },
    "id": "gwmmnb8wIc5_",
    "outputId": "85c179da-57e9-4b87-8b3c-7ff0d26209fa"
   },
   "outputs": [
    {
     "data": {
      "text/plain": [
       "8.643787983360157"
      ]
     },
     "execution_count": 94,
     "metadata": {
      "tags": []
     },
     "output_type": "execute_result"
    }
   ],
   "source": [
    "x1 = 7\n",
    "x2 = 1.15\n",
    "Y_pred = w0 + w1*x1 + w2*x2\n",
    "Y_pred"
   ]
  }
 ],
 "metadata": {
  "colab": {
   "name": "Linear Regression-2.ipynb",
   "provenance": []
  },
  "kernelspec": {
   "display_name": "Python 3",
   "language": "python",
   "name": "python3"
  },
  "language_info": {
   "codemirror_mode": {
    "name": "ipython",
    "version": 3
   },
   "file_extension": ".py",
   "mimetype": "text/x-python",
   "name": "python",
   "nbconvert_exporter": "python",
   "pygments_lexer": "ipython3",
   "version": "3.7.6"
  }
 },
 "nbformat": 4,
 "nbformat_minor": 1
}
