{
 "cells": [
  {
   "cell_type": "code",
   "execution_count": 8,
   "metadata": {},
   "outputs": [],
   "source": [
    "import numpy as np"
   ]
  },
  {
   "cell_type": "code",
   "execution_count": 2,
   "metadata": {},
   "outputs": [],
   "source": [
    "def sigmoidal(x):\n",
    "    z = 1/(1 + np.exp(-x))\n",
    "    return(z)\n",
    "\n",
    "def bipolarSigmoidal(x):\n",
    "    z = np.exp(-x)\n",
    "    z = (1-z)/(1+z)\n",
    "    return(z)"
   ]
  },
  {
   "cell_type": "code",
   "execution_count": 6,
   "metadata": {},
   "outputs": [],
   "source": [
    "def actiVal(x):\n",
    "    z = sigmoidal(x)\n",
    "    return(z*(1-z))\n",
    "\n",
    "def actiValBS(x):\n",
    "    z = bipolarSigmoidal(x)\n",
    "    return(1*(1+z)*(1-z))\n",
    "\n",
    "def getBothBS(x):\n",
    "    print(bipolarSigmoidal(x))\n",
    "    print(actiValBS(x))\n",
    "\n",
    "def getBoth(x):\n",
    "    print(sigmoidal(x))\n",
    "    print(actiVal(x))"
   ]
  },
  {
   "cell_type": "code",
   "execution_count": 50,
   "metadata": {},
   "outputs": [],
   "source": [
    "class BackPropagation():\n",
    "    def __init__(self, lr, n, p, m):\n",
    "        self.lr = lr\n",
    "        self.n = n\n",
    "        self.p = p\n",
    "        self.m = m\n",
    "        self.x = np.zeros((n,))\n",
    "        self.v = np.zeros((n+1, p))\n",
    "        self.deltain = np.zeros((p,))\n",
    "        self.deltaopZ = np.zeros((p,))\n",
    "        self.w = np.zeros((p+1, m))\n",
    "        self.deltaw = np.zeros((p+1, m))\n",
    "        self.zin = np.zeros((p,))\n",
    "        self.zout = np.zeros((p,))\n",
    "        self.yin = np.zeros((m,))\n",
    "        self.yout = np.zeros((m,))\n",
    "        self.deltaop = np.zeros((m,))\n",
    "        self.deltav = np.zeros((n+1, p))\n",
    "\n",
    "    def initInputs(self, x, v, w):\n",
    "        for i in range(self.n):\n",
    "            self.x[i] = x[i]\n",
    "        for i in range(self.n+1):\n",
    "            for j in range(self.p):\n",
    "                self.v[i][j] = v[i][j]\n",
    "        for i in range(self.p+1):\n",
    "            for j in range(self.m):\n",
    "                self.w[i][j] = w[i][j]\n",
    "    \n",
    "    def forwardPropagationZ(self, actfn):\n",
    "        for i in range(self.p):\n",
    "            for j in range(self.n):\n",
    "                self.zin[i] += self.v[j+1][i]*self.x[j]\n",
    "                \n",
    "            self.zin[i] += self.v[0][i]\n",
    "            self.zout[i] = actfn(self.zin[i])\n",
    "            print(\"zin_{} = {}\".format(i+1, self.zin[i]))\n",
    "            print(\"zout_{} = {}\".format(i+1, self.zout[i]))\n",
    "    \n",
    "    def forwardPropagationY(self, actfn):\n",
    "        for i in range(self.m):\n",
    "            for j in range(self.p):\n",
    "                self.yin[i] += self.w[j+1][i]*self.zout[j]\n",
    "            self.yin[i] += self.w[0][i]\n",
    "            self.yout[i] = actfn(self.yin[i])\n",
    "            print(\"yin_{} = {}\".format(i+1, self.yin[i]))\n",
    "            print(\"yout_{} = {}\".format(i+1, self.yout[i]))\n",
    "    \n",
    "    def backwardPropagationY(self, actfndiff, t):\n",
    "        for i in range(self.m):\n",
    "            self.deltaop[i] = (t-self.yout[i])*(actfndiff(self.yin[i]))\n",
    "            print(\"Error: {}\".format(t-self.yout[i]))\n",
    "            print(\"Delta_{} = {}\".format(i, self.deltaop[i]))\n",
    "        for i in range(self.m):\n",
    "            for j in range(self.p):\n",
    "                self.deltaw[j+1][i] = self.lr * self.deltaop[i] * self.zout[j]\n",
    "                print(\"deltaw_{}{} = {}\".format(j+1, i, self.deltaw[j+1][i]))\n",
    "            self.deltaw[0][i] = self.lr * self.deltaop[i]\n",
    "            print(\"deltaw_{}{} = {}\".format(0, i, self.deltaw[0][i]))\n",
    "    \n",
    "    def backwardPropagationZ(self, actfndiff):\n",
    "        for i in range(self.p):\n",
    "            for j in range(self.m):\n",
    "                self.deltain[i] += self.deltaop[j] * self.w[i+1][j]\n",
    "            print(\"deltain_{} = {}\".format(i, self.deltain[i]))\n",
    "        for i in range(self.p):\n",
    "            self.deltaopZ[i] = self.deltain[i] * actfndiff(self.zin[i])\n",
    "        for i in range(self.p):\n",
    "            for j in range(self.n):\n",
    "                self.deltav[j+1][i] = self.lr * self.deltaopZ[i] * self.x[j]\n",
    "                print(\"deltv_{}{} = {}\".format(j+1, i, self.deltav[j+1][i]))\n",
    "            self.deltav[0][i] = self.lr * self.deltaopZ[i]\n",
    "            print(\"deltav_{}{} = {}\".format(0, i, self.deltav[0][i]))"
   ]
  },
  {
   "cell_type": "code",
   "execution_count": 51,
   "metadata": {},
   "outputs": [],
   "source": [
    "bp = BackPropagation(0.25, 2, 2, 1)"
   ]
  },
  {
   "cell_type": "code",
   "execution_count": 52,
   "metadata": {},
   "outputs": [],
   "source": [
    "bp.initInputs(np.array([0, 1]), np.array([[0.3, 0.5], [0.6, -0.3], [-0.1, 0.4]]), np.array([[-0.2], [0.4], [0.1]]))"
   ]
  },
  {
   "cell_type": "code",
   "execution_count": 53,
   "metadata": {},
   "outputs": [
    {
     "name": "stdout",
     "output_type": "stream",
     "text": [
      "zin_1 = 0.19999999999999998\n",
      "zout_1 = 0.549833997312478\n",
      "zin_2 = 0.9\n",
      "zout_2 = 0.7109495026250039\n"
     ]
    }
   ],
   "source": [
    "bp.forwardPropagationZ(sigmoidal)"
   ]
  },
  {
   "cell_type": "code",
   "execution_count": 54,
   "metadata": {},
   "outputs": [
    {
     "name": "stdout",
     "output_type": "stream",
     "text": [
      "yin_1 = 0.09102854918749159\n",
      "yout_1 = 0.5227414361305817\n"
     ]
    }
   ],
   "source": [
    "bp.forwardPropagationY(sigmoidal)"
   ]
  },
  {
   "cell_type": "code",
   "execution_count": 55,
   "metadata": {},
   "outputs": [
    {
     "name": "stdout",
     "output_type": "stream",
     "text": [
      "Error: [0.47725856]\n",
      "Delta_0 = 0.11906781576358075\n",
      "deltaw_10 = 0.01636688327313882\n",
      "deltaw_20 = 0.021162801098940833\n",
      "deltaw_00 = 0.029766953940895187\n"
     ]
    }
   ],
   "source": [
    "bp.backwardPropagationY(actiVal, t = np.array([1]))"
   ]
  },
  {
   "cell_type": "code",
   "execution_count": 56,
   "metadata": {},
   "outputs": [
    {
     "name": "stdout",
     "output_type": "stream",
     "text": [
      "deltain_0 = 0.0476271263054323\n",
      "deltain_1 = 0.011906781576358076\n",
      "deltv_10 = 0.0\n",
      "deltv_20 = 0.0029471257678088682\n",
      "deltav_00 = 0.0029471257678088682\n",
      "deltv_11 = 0.0\n",
      "deltv_21 = 0.0006117118183496963\n",
      "deltav_01 = 0.0006117118183496963\n"
     ]
    }
   ],
   "source": [
    "bp.backwardPropagationZ(actiVal)"
   ]
  },
  {
   "cell_type": "code",
   "execution_count": null,
   "metadata": {},
   "outputs": [],
   "source": []
  }
 ],
 "metadata": {
  "kernelspec": {
   "display_name": "Python 3",
   "language": "python",
   "name": "python3"
  },
  "language_info": {
   "codemirror_mode": {
    "name": "ipython",
    "version": 3
   },
   "file_extension": ".py",
   "mimetype": "text/x-python",
   "name": "python",
   "nbconvert_exporter": "python",
   "pygments_lexer": "ipython3",
   "version": "3.8.2"
  }
 },
 "nbformat": 4,
 "nbformat_minor": 4
}
