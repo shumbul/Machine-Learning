{
  "nbformat": 4,
  "nbformat_minor": 0,
  "metadata": {
    "colab": {
      "name": "sexPrediction.ipynb",
      "provenance": [],
      "authorship_tag": "ABX9TyNFG0+UcvBwqvMjBChhZDhd",
      "include_colab_link": true
    },
    "kernelspec": {
      "name": "ir",
      "display_name": "R"
    }
  },
  "cells": [
    {
      "cell_type": "markdown",
      "metadata": {
        "id": "view-in-github",
        "colab_type": "text"
      },
      "source": [
        "<a href=\"https://colab.research.google.com/github/shumbul/Machine-Learning/blob/main/sexPrediction.ipynb\" target=\"_parent\"><img src=\"https://colab.research.google.com/assets/colab-badge.svg\" alt=\"Open In Colab\"/></a>"
      ]
    },
    {
      "cell_type": "code",
      "metadata": {
        "colab": {
          "base_uri": "https://localhost:8080/",
          "height": 34
        },
        "id": "H9oj3nuciwb3",
        "outputId": "2299d7ae-62e8-4ead-a803-5b4f51304dbe"
      },
      "source": [
        "R.version.string"
      ],
      "execution_count": null,
      "outputs": [
        {
          "output_type": "display_data",
          "data": {
            "text/plain": [
              "[1] \"R version 4.0.3 (2020-10-10)\""
            ],
            "text/latex": "'R version 4.0.3 (2020-10-10)'",
            "text/markdown": "'R version 4.0.3 (2020-10-10)'",
            "text/html": [
              "'R version 4.0.3 (2020-10-10)'"
            ]
          },
          "metadata": {
            "tags": []
          }
        }
      ]
    },
    {
      "cell_type": "code",
      "metadata": {
        "colab": {
          "base_uri": "https://localhost:8080/"
        },
        "id": "0TuOgZnUjDCY",
        "outputId": "e9beb6f3-24f8-4811-9402-3e780f3a7a41"
      },
      "source": [
        "install.packages(\"dslabs\")\n",
        "install.packages(\"caret\")\n",
        "install.packages(\"tidyverse\")\n",
        "library(tidyverse)\n",
        "library(caret)\n",
        "library(dslabs)\n",
        "data(heights)"
      ],
      "execution_count": null,
      "outputs": [
        {
          "output_type": "stream",
          "text": [
            "Installing package into ‘/usr/local/lib/R/site-library’\n",
            "(as ‘lib’ is unspecified)\n",
            "\n",
            "Installing package into ‘/usr/local/lib/R/site-library’\n",
            "(as ‘lib’ is unspecified)\n",
            "\n",
            "Installing package into ‘/usr/local/lib/R/site-library’\n",
            "(as ‘lib’ is unspecified)\n",
            "\n"
          ],
          "name": "stderr"
        }
      ]
    },
    {
      "cell_type": "code",
      "metadata": {
        "colab": {
          "base_uri": "https://localhost:8080/"
        },
        "id": "n1s-qIPHkzme",
        "outputId": "ce4f27ea-b327-4ac6-ceff-ed0a20f14305"
      },
      "source": [
        "# define the outcome and predictors\n",
        "y <- heights$sex\n",
        "x <- heights$height\n",
        "\n",
        "# generate training and test sets\n",
        "set.seed(2, sample.kind = \"Rounding\") # if using R 3.5 or earlier, remove the sample.kind argument\n",
        "test_index <- createDataPartition(y, times = 1, p = 0.5, list = FALSE)\n",
        "test_set <- heights[test_index, ]\n",
        "train_set <- heights[-test_index, ]"
      ],
      "execution_count": null,
      "outputs": [
        {
          "output_type": "stream",
          "text": [
            "Warning message in set.seed(2, sample.kind = \"Rounding\"):\n",
            "“non-uniform 'Rounding' sampler used”\n"
          ],
          "name": "stderr"
        }
      ]
    },
    {
      "cell_type": "code",
      "metadata": {
        "id": "hsqvklK-lVTN"
      },
      "source": [
        "# guess the outcome\n",
        "y_hat <- sample(c(\"Male\", \"Female\"), length(test_index), replace = TRUE)\n",
        "y_hat <- sample(c(\"Male\", \"Female\"), length(test_index), replace = TRUE) %>% \n",
        "  factor(levels = levels(test_set$sex))"
      ],
      "execution_count": null,
      "outputs": []
    },
    {
      "cell_type": "code",
      "metadata": {
        "colab": {
          "base_uri": "https://localhost:8080/",
          "height": 182
        },
        "id": "TyS9hxP1lfoG",
        "outputId": "4e7f2d9c-afcb-4fb3-89ef-6c2b3f808882"
      },
      "source": [
        "# compute accuracy\n",
        "mean(y_hat == test_set$sex)\n",
        "\n",
        "heights %>% group_by(sex) %>% summarize(mean(height), sd(height))\n",
        "y_hat <- ifelse(x > 62, \"Male\", \"Female\") %>% factor(levels = levels(test_set$sex))\n",
        "mean(y == y_hat)"
      ],
      "execution_count": null,
      "outputs": [
        {
          "output_type": "display_data",
          "data": {
            "text/plain": [
              "[1] 0.5238095"
            ],
            "text/latex": "0.523809523809524",
            "text/markdown": "0.523809523809524",
            "text/html": [
              "0.523809523809524"
            ]
          },
          "metadata": {
            "tags": []
          }
        },
        {
          "output_type": "stream",
          "text": [
            "`summarise()` ungrouping output (override with `.groups` argument)\n",
            "\n"
          ],
          "name": "stderr"
        },
        {
          "output_type": "display_data",
          "data": {
            "text/plain": [
              "  sex    mean(height) sd(height)\n",
              "1 Female 64.93942     3.760656  \n",
              "2 Male   69.31475     3.611024  "
            ],
            "text/latex": "A tibble: 2 × 3\n\\begin{tabular}{lll}\n sex & mean(height) & sd(height)\\\\\n <fct> & <dbl> & <dbl>\\\\\n\\hline\n\t Female & 64.93942 & 3.760656\\\\\n\t Male   & 69.31475 & 3.611024\\\\\n\\end{tabular}\n",
            "text/markdown": "\nA tibble: 2 × 3\n\n| sex &lt;fct&gt; | mean(height) &lt;dbl&gt; | sd(height) &lt;dbl&gt; |\n|---|---|---|\n| Female | 64.93942 | 3.760656 |\n| Male   | 69.31475 | 3.611024 |\n\n",
            "text/html": [
              "<table>\n",
              "<caption>A tibble: 2 × 3</caption>\n",
              "<thead>\n",
              "\t<tr><th scope=col>sex</th><th scope=col>mean(height)</th><th scope=col>sd(height)</th></tr>\n",
              "\t<tr><th scope=col>&lt;fct&gt;</th><th scope=col>&lt;dbl&gt;</th><th scope=col>&lt;dbl&gt;</th></tr>\n",
              "</thead>\n",
              "<tbody>\n",
              "\t<tr><td>Female</td><td>64.93942</td><td>3.760656</td></tr>\n",
              "\t<tr><td>Male  </td><td>69.31475</td><td>3.611024</td></tr>\n",
              "</tbody>\n",
              "</table>\n"
            ]
          },
          "metadata": {
            "tags": []
          }
        },
        {
          "output_type": "display_data",
          "data": {
            "text/plain": [
              "[1] 0.7933333"
            ],
            "text/latex": "0.793333333333333",
            "text/markdown": "0.793333333333333",
            "text/html": [
              "0.793333333333333"
            ]
          },
          "metadata": {
            "tags": []
          }
        }
      ]
    },
    {
      "cell_type": "code",
      "metadata": {
        "colab": {
          "base_uri": "https://localhost:8080/",
          "height": 487
        },
        "id": "GV4ugzw9llrv",
        "outputId": "d1126d97-d59c-4d25-d245-50bcefcd2706"
      },
      "source": [
        "# examine the accuracy of 10 cutoffs\n",
        "cutoff <- seq(61, 70)\n",
        "accuracy <- map_dbl(cutoff, function(x){\n",
        "  y_hat <- ifelse(train_set$height > x, \"Male\", \"Female\") %>% \n",
        "    factor(levels = levels(test_set$sex))\n",
        "  mean(y_hat == train_set$sex)\n",
        "})\n",
        "data.frame(cutoff, accuracy) %>% \n",
        "  ggplot(aes(cutoff, accuracy)) + \n",
        "  geom_point() + \n",
        "  geom_line() \n",
        "max(accuracy)\n",
        "\n",
        "best_cutoff <- cutoff[which.max(accuracy)]\n",
        "best_cutoff\n",
        "\n",
        "y_hat <- ifelse(test_set$height > best_cutoff, \"Male\", \"Female\") %>% \n",
        "  factor(levels = levels(test_set$sex))\n",
        "y_hat <- factor(y_hat)\n",
        "mean(y_hat == test_set$sex)"
      ],
      "execution_count": null,
      "outputs": [
        {
          "output_type": "display_data",
          "data": {
            "text/plain": [
              "[1] 0.8361905"
            ],
            "text/latex": "0.836190476190476",
            "text/markdown": "0.836190476190476",
            "text/html": [
              "0.836190476190476"
            ]
          },
          "metadata": {
            "tags": []
          }
        },
        {
          "output_type": "display_data",
          "data": {
            "text/plain": [
              "[1] 64"
            ],
            "text/latex": "64",
            "text/markdown": "64",
            "text/html": [
              "64"
            ]
          },
          "metadata": {
            "tags": []
          }
        },
        {
          "output_type": "display_data",
          "data": {
            "text/plain": [
              "[1] 0.8171429"
            ],
            "text/latex": "0.817142857142857",
            "text/markdown": "0.817142857142857",
            "text/html": [
              "0.817142857142857"
            ]
          },
          "metadata": {
            "tags": []
          }
        },
        {
          "output_type": "display_data",
          "data": {
            "image/png": "[encoded data removed]",
            "text/plain": [
              "plot without title"
            ]
          },
          "metadata": {
            "tags": [],
            "image/png": {
              "width": 420,
              "height": 420
            }
          }
        }
      ]
    }
  ]
}