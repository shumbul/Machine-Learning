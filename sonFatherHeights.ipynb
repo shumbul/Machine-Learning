{
  "nbformat": 4,
  "nbformat_minor": 0,
  "metadata": {
    "colab": {
      "name": "sonFatherHeights.ipynb",
      "provenance": [],
      "collapsed_sections": [],
      "authorship_tag": "ABX9TyP9XMSlUTGH9m8Vj5o9X4TM",
      "include_colab_link": true
    },
    "kernelspec": {
      "name": "ir",
      "display_name": "R"
    }
  },
  "cells": [
    {
      "cell_type": "markdown",
      "metadata": {
        "id": "view-in-github",
        "colab_type": "text"
      },
      "source": [
        "<a href=\"https://colab.research.google.com/github/shumbul/Machine-Learning/blob/main/sonFatherHeights.ipynb\" target=\"_parent\"><img src=\"https://colab.research.google.com/assets/colab-badge.svg\" alt=\"Open In Colab\"/></a>"
      ]
    },
    {
      "cell_type": "code",
      "metadata": {
        "colab": {
          "base_uri": "https://localhost:8080/",
          "height": 34
        },
        "id": "H9oj3nuciwb3",
        "outputId": "45fc8312-3744-4f47-c78a-2347ec6a17dc"
      },
      "source": [
        "R.version.string"
      ],
      "execution_count": null,
      "outputs": [
        {
          "output_type": "display_data",
          "data": {
            "text/plain": [
              "[1] \"R version 4.0.3 (2020-10-10)\""
            ],
            "text/latex": "'R version 4.0.3 (2020-10-10)'",
            "text/markdown": "'R version 4.0.3 (2020-10-10)'",
            "text/html": [
              "'R version 4.0.3 (2020-10-10)'"
            ]
          },
          "metadata": {
            "tags": []
          }
        }
      ]
    },
    {
      "cell_type": "code",
      "metadata": {
        "colab": {
          "base_uri": "https://localhost:8080/"
        },
        "id": "L06ubhj-wRK1",
        "outputId": "025743fd-e375-4599-a735-3eca5a898953"
      },
      "source": [
        "install.packages(\"tidyverse\")\n",
        "install.packages(\"HistData\")\n",
        "install.packages(\"caret\")"
      ],
      "execution_count": null,
      "outputs": [
        {
          "output_type": "stream",
          "text": [
            "Installing package into ‘/usr/local/lib/R/site-library’\n",
            "(as ‘lib’ is unspecified)\n",
            "\n",
            "Installing package into ‘/usr/local/lib/R/site-library’\n",
            "(as ‘lib’ is unspecified)\n",
            "\n",
            "Installing package into ‘/usr/local/lib/R/site-library’\n",
            "(as ‘lib’ is unspecified)\n",
            "\n",
            "also installing the dependencies ‘numDeriv’, ‘SQUAREM’, ‘lava’, ‘prodlim’, ‘iterators’, ‘data.table’, ‘gower’, ‘ipred’, ‘timeDate’, ‘foreach’, ‘plyr’, ‘ModelMetrics’, ‘reshape2’, ‘recipes’, ‘pROC’\n",
            "\n",
            "\n"
          ],
          "name": "stderr"
        }
      ]
    },
    {
      "cell_type": "code",
      "metadata": {
        "colab": {
          "base_uri": "https://localhost:8080/",
          "height": 454
        },
        "id": "EiLAT9NJwOYf",
        "outputId": "a4ab1ff8-1cb6-4cf2-a76f-e314391f57b5"
      },
      "source": [
        "library(tidyverse)\n",
        "library(HistData)\n",
        "\n",
        "galton_heights <- GaltonFamilies %>%\n",
        "  filter(childNum == 1 & gender == \"male\") %>%\n",
        "  select(father, childHeight) %>%\n",
        "  rename(son = childHeight)\n",
        "\n",
        "library(caret)\n",
        "y <- galton_heights$son\n",
        "test_index <- createDataPartition(y, times = 1, p = 0.5, list = FALSE)\n",
        "\n",
        "train_set <- galton_heights %>% slice(-test_index)\n",
        "test_set <- galton_heights %>% slice(test_index)\n",
        "\n",
        "avg <- mean(train_set$son)\n",
        "avg\n",
        "\n",
        "mean((avg - test_set$son)^2)\n",
        "\n",
        "# fit linear regression model\n",
        "fit <- lm(son ~ father, data = train_set)\n",
        "fit$coef\n",
        "\n",
        "y_hat <- fit$coef[1] + fit$coef[2]*test_set$father\n",
        "mean((y_hat - test_set$son)^2)"
      ],
      "execution_count": null,
      "outputs": [
        {
          "output_type": "stream",
          "text": [
            "── \u001b[1mAttaching packages\u001b[22m ─────────────────────────────────────── tidyverse 1.3.0 ──\n",
            "\n",
            "\u001b[32m✔\u001b[39m \u001b[34mggplot2\u001b[39m 3.3.3     \u001b[32m✔\u001b[39m \u001b[34mpurrr  \u001b[39m 0.3.4\n",
            "\u001b[32m✔\u001b[39m \u001b[34mtibble \u001b[39m 3.0.4     \u001b[32m✔\u001b[39m \u001b[34mdplyr  \u001b[39m 1.0.2\n",
            "\u001b[32m✔\u001b[39m \u001b[34mtidyr  \u001b[39m 1.1.2     \u001b[32m✔\u001b[39m \u001b[34mstringr\u001b[39m 1.4.0\n",
            "\u001b[32m✔\u001b[39m \u001b[34mreadr  \u001b[39m 1.4.0     \u001b[32m✔\u001b[39m \u001b[34mforcats\u001b[39m 0.5.0\n",
            "\n",
            "── \u001b[1mConflicts\u001b[22m ────────────────────────────────────────── tidyverse_conflicts() ──\n",
            "\u001b[31m✖\u001b[39m \u001b[34mdplyr\u001b[39m::\u001b[32mfilter()\u001b[39m masks \u001b[34mstats\u001b[39m::filter()\n",
            "\u001b[31m✖\u001b[39m \u001b[34mdplyr\u001b[39m::\u001b[32mlag()\u001b[39m    masks \u001b[34mstats\u001b[39m::lag()\n",
            "\n",
            "Loading required package: lattice\n",
            "\n",
            "\n",
            "Attaching package: ‘caret’\n",
            "\n",
            "\n",
            "The following object is masked from ‘package:purrr’:\n",
            "\n",
            "    lift\n",
            "\n",
            "\n"
          ],
          "name": "stderr"
        },
        {
          "output_type": "display_data",
          "data": {
            "text/plain": [
              "[1] 70.54205"
            ],
            "text/latex": "70.5420454545455",
            "text/markdown": "70.5420454545455",
            "text/html": [
              "70.5420454545455"
            ]
          },
          "metadata": {
            "tags": []
          }
        },
        {
          "output_type": "display_data",
          "data": {
            "text/plain": [
              "[1] 6.57465"
            ],
            "text/latex": "6.57464993813005",
            "text/markdown": "6.57464993813005",
            "text/html": [
              "6.57464993813005"
            ]
          },
          "metadata": {
            "tags": []
          }
        },
        {
          "output_type": "display_data",
          "data": {
            "text/plain": [
              "(Intercept)      father \n",
              " 36.5218617   0.4929081 "
            ],
            "text/latex": "\\begin{description*}\n\\item[(Intercept)] 36.5218616519882\n\\item[father] 0.492908140774987\n\\end{description*}\n",
            "text/markdown": "(Intercept)\n:   36.5218616519882father\n:   0.492908140774987\n\n",
            "text/html": [
              "<style>\n",
              ".dl-inline {width: auto; margin:0; padding: 0}\n",
              ".dl-inline>dt, .dl-inline>dd {float: none; width: auto; display: inline-block}\n",
              ".dl-inline>dt::after {content: \":\\0020\"; padding-right: .5ex}\n",
              ".dl-inline>dt:not(:first-of-type) {padding-left: .5ex}\n",
              "</style><dl class=dl-inline><dt>(Intercept)</dt><dd>36.5218616519882</dd><dt>father</dt><dd>0.492908140774987</dd></dl>\n"
            ]
          },
          "metadata": {
            "tags": []
          }
        },
        {
          "output_type": "display_data",
          "data": {
            "text/plain": [
              "[1] 5.012052"
            ],
            "text/latex": "5.01205180093419",
            "text/markdown": "5.01205180093419",
            "text/html": [
              "5.01205180093419"
            ]
          },
          "metadata": {
            "tags": []
          }
        }
      ]
    },
    {
      "cell_type": "code",
      "metadata": {
        "colab": {
          "base_uri": "https://localhost:8080/",
          "height": 34
        },
        "id": "EAyX7bURxT0J",
        "outputId": "c17bb024-54f6-4acd-9aa1-0442dc62fa42"
      },
      "source": [
        "# predict\n",
        "y_hat <- predict(fit, test_set)\n",
        "mean((y_hat - test_set$son)^2)\n",
        "\n",
        "# read help files\n",
        "?predict.lm\n",
        "?predict.glm"
      ],
      "execution_count": null,
      "outputs": [
        {
          "output_type": "display_data",
          "data": {
            "text/plain": [
              "[1] 5.012052"
            ],
            "text/latex": "5.01205180093419",
            "text/markdown": "5.01205180093419",
            "text/html": [
              "5.01205180093419"
            ]
          },
          "metadata": {
            "tags": []
          }
        }
      ]
    },
    {
      "cell_type": "code",
      "metadata": {
        "colab": {
          "base_uri": "https://localhost:8080/",
          "height": 101
        },
        "id": "yUPVlgWyx0EQ",
        "outputId": "62819d51-aefa-4828-fc4e-37a8a1fda220"
      },
      "source": [
        "# set.seed(1) # if using R 3.5 or earlier\n",
        "set.seed(1, sample.kind=\"Rounding\") # if using R 3.6 or later\n",
        "n <- 100\n",
        "Sigma <- 9*matrix(c(1.0, 0.5, 0.5, 1.0), 2, 2)\n",
        "dat <- MASS::mvrnorm(n = 100, c(69, 69), Sigma) %>%\n",
        "      data.frame() %>% setNames(c(\"x\", \"y\"))\n",
        "y_hat=mean(dat)\n",
        "y_hat"
      ],
      "execution_count": null,
      "outputs": [
        {
          "output_type": "stream",
          "text": [
            "Warning message in set.seed(1, sample.kind = \"Rounding\"):\n",
            "“non-uniform 'Rounding' sampler used”\n",
            "Warning message in mean.default(dat):\n",
            "“argument is not numeric or logical: returning NA”\n"
          ],
          "name": "stderr"
        },
        {
          "output_type": "display_data",
          "data": {
            "text/plain": [
              "[1] NA"
            ],
            "text/latex": "<NA>",
            "text/markdown": "&lt;NA&gt;",
            "text/html": [
              "&lt;NA&gt;"
            ]
          },
          "metadata": {
            "tags": []
          }
        }
      ]
    }
  ]
}